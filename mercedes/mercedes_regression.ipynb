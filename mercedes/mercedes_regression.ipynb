{
 "cells": [
  {
   "cell_type": "markdown",
   "metadata": {},
   "source": [
    "# Mercedes testing time"
   ]
  },
  {
   "cell_type": "code",
   "execution_count": 1,
   "metadata": {},
   "outputs": [],
   "source": [
    "import pandas as pd\n",
    "import numpy as np\n",
    "import seaborn as sns\n",
    "import matplotlib.pyplot as plt\n",
    "%matplotlib inline"
   ]
  },
  {
   "cell_type": "code",
   "execution_count": 2,
   "metadata": {},
   "outputs": [],
   "source": [
    "from sklearn.compose import make_column_transformer\n",
    "from sklearn.preprocessing import OneHotEncoder, StandardScaler\n",
    "from sklearn.pipeline import make_pipeline, make_union\n",
    "from sklearn.decomposition import TruncatedSVD\n",
    "from sklearn.model_selection import GridSearchCV\n",
    "from sklearn.linear_model import LinearRegression, Ridge, Lasso\n",
    "from sklearn.compose import TransformedTargetRegressor\n",
    "from sklearn.metrics import mean_squared_error"
   ]
  },
  {
   "cell_type": "code",
   "execution_count": 3,
   "metadata": {},
   "outputs": [],
   "source": [
    "data_path = 'data'\n",
    "train_df = pd.read_csv(f'{data_path}/train.csv')\n",
    "test_df = pd.read_csv(f'{data_path}/test.csv')"
   ]
  },
  {
   "cell_type": "code",
   "execution_count": 4,
   "metadata": {},
   "outputs": [
    {
     "data": {
      "text/plain": [
       "(4209, 378)"
      ]
     },
     "execution_count": 4,
     "metadata": {},
     "output_type": "execute_result"
    }
   ],
   "source": [
    "train_df.shape"
   ]
  },
  {
   "cell_type": "code",
   "execution_count": 5,
   "metadata": {},
   "outputs": [
    {
     "name": "stdout",
     "output_type": "stream",
     "text": [
      "columns having only 1 unique value:\n",
      "['X11', 'X93', 'X107', 'X233', 'X235', 'X268', 'X289', 'X290', 'X293', 'X297', 'X330', 'X347']\n"
     ]
    }
   ],
   "source": [
    "s = train_df.nunique()\n",
    "one_val_cols = list(s[s==1].index)\n",
    "print(f'columns having only 1 unique value:\\n{one_val_cols}')"
   ]
  },
  {
   "cell_type": "code",
   "execution_count": 6,
   "metadata": {},
   "outputs": [
    {
     "data": {
      "image/png": "[encoded data removed]",
      "text/plain": [
       "<Figure size 432x288 with 1 Axes>"
      ]
     },
     "metadata": {
      "needs_background": "light"
     },
     "output_type": "display_data"
    }
   ],
   "source": [
    "train_df.y.hist()\n",
    "plt.title('target distribution')\n",
    "plt.yscale('log')\n",
    "plt.show()"
   ]
  },
  {
   "cell_type": "code",
   "execution_count": 7,
   "metadata": {},
   "outputs": [],
   "source": [
    "# drop the outlier from training\n",
    "clean_df = train_df.drop(train_df[train_df.y > 200].index)\n",
    "\n",
    "# drop columns with 1 unique value\n",
    "clean_df = clean_df.drop(columns=one_val_cols)\n",
    "test_df = test_df.drop(columns=one_val_cols)"
   ]
  },
  {
   "cell_type": "markdown",
   "metadata": {},
   "source": [
    "## Linear Regression"
   ]
  },
  {
   "cell_type": "code",
   "execution_count": 8,
   "metadata": {},
   "outputs": [],
   "source": [
    "obj_cols = [col for col, dtype in train_df.dtypes.items() if dtype == 'object']\n",
    "\n",
    "feature_pipeline = make_pipeline(\n",
    "    make_column_transformer(\n",
    "        (OneHotEncoder(handle_unknown='ignore'), obj_cols),\n",
    "    remainder='passthrough'),\n",
    "    TruncatedSVD(random_state=0),\n",
    ")\n",
    "\n",
    "regressor = make_pipeline(\n",
    "    feature_pipeline,\n",
    "    Ridge(),\n",
    ")\n",
    "\n",
    "params = {\n",
    "    'ridge__alpha': [35],\n",
    "    'pipeline__truncatedsvd__n_components': [273],\n",
    "    'pipeline__truncatedsvd__n_iter': [20],\n",
    "}\n",
    "results = GridSearchCV(\n",
    "    estimator=regressor, \n",
    "    param_grid=params, \n",
    "    scoring='r2',\n",
    "    cv=4,\n",
    "    n_jobs=-1,\n",
    ").fit(\n",
    "    X=clean_df.drop(columns=['ID', 'y']), \n",
    "    y=clean_df['y'],\n",
    ")"
   ]
  },
  {
   "cell_type": "code",
   "execution_count": 9,
   "metadata": {},
   "outputs": [
    {
     "data": {
      "text/plain": [
       "0.5716308394047992"
      ]
     },
     "execution_count": 9,
     "metadata": {},
     "output_type": "execute_result"
    }
   ],
   "source": [
    "results.best_score_"
   ]
  },
  {
   "cell_type": "code",
   "execution_count": 10,
   "metadata": {},
   "outputs": [
    {
     "data": {
      "text/plain": [
       "{'pipeline__truncatedsvd__n_components': 273,\n",
       " 'pipeline__truncatedsvd__n_iter': 20,\n",
       " 'ridge__alpha': 35}"
      ]
     },
     "execution_count": 10,
     "metadata": {},
     "output_type": "execute_result"
    }
   ],
   "source": [
    "results.best_params_"
   ]
  },
  {
   "cell_type": "code",
   "execution_count": 12,
   "metadata": {},
   "outputs": [],
   "source": [
    "feature_pipeline = make_pipeline(\n",
    "    make_column_transformer(\n",
    "        (OneHotEncoder(handle_unknown='ignore'), obj_cols),\n",
    "    remainder='passthrough'),\n",
    "    TruncatedSVD(\n",
    "        n_components=results.best_params_['pipeline__truncatedsvd__n_components'], \n",
    "        n_iter=results.best_params_['pipeline__truncatedsvd__n_iter'], \n",
    "        random_state=0\n",
    "    ),\n",
    ")\n",
    "\n",
    "regressor = make_pipeline(\n",
    "    feature_pipeline,\n",
    "    Ridge(alpha=results.best_params_['ridge__alpha']),\n",
    ")\n",
    "\n",
    "regressor.fit(\n",
    "    X=clean_df.drop(columns=['ID', 'y']), \n",
    "    y=clean_df['y'],\n",
    ")\n",
    "\n",
    "test_df['y'] = regressor.predict(test_df.drop(columns=['ID']))\n",
    "\n",
    "test_df[['ID', 'y']].to_csv('submission.csv', index=None)"
   ]
  },
  {
   "cell_type": "markdown",
   "metadata": {},
   "source": [
    "## Gradient Boosting"
   ]
  },
  {
   "cell_type": "code",
   "execution_count": 14,
   "metadata": {},
   "outputs": [],
   "source": [
    "from catboost import CatBoostRegressor, cv, Pool"
   ]
  },
  {
   "cell_type": "code",
   "execution_count": 19,
   "metadata": {},
   "outputs": [],
   "source": [
    "pool = Pool(\n",
    "    data=clean_df.drop(columns=['ID', 'y']),\n",
    "    label=clean_df.y,\n",
    "    cat_features=[col for col, dtype in clean_df.dtypes.items() if dtype == 'object']\n",
    ")"
   ]
  },
  {
   "cell_type": "code",
   "execution_count": 33,
   "metadata": {},
   "outputs": [],
   "source": [
    "params = {\n",
    "    \"iterations\": 300,\n",
    "    \"loss_function\": \"RMSE\",\n",
    "    \"learning_rate\": 0.08,\n",
    "    \"depth\": 4,\n",
    "    \"l2_leaf_reg\": 2,\n",
    "    \"verbose\": 1,\n",
    "    \"custom_metric\": ['R2'],\n",
    "}"
   ]
  },
  {
   "cell_type": "markdown",
   "metadata": {},
   "source": [
    "### GridSearch some params"
   ]
  },
  {
   "cell_type": "code",
   "execution_count": 26,
   "metadata": {},
   "outputs": [],
   "source": [
    "model = CatBoostRegressor(**params)\n",
    "\n",
    "grid = {\n",
    "    'learning_rate': np.arange(0.01, 0.1, 0.01),\n",
    "    'depth': [3, 4, 5],\n",
    "    'l2_leaf_reg': [1.0, 1.5, 2.0]\n",
    "}\n",
    "\n",
    "model.grid_search(\n",
    "    param_grid=grid,\n",
    "    X=pool,\n",
    "    cv=4,\n",
    "    plot=True,\n",
    "    verbose=False,\n",
    ")"
   ]
  },
  {
   "cell_type": "markdown",
   "metadata": {},
   "source": [
    "### Check out the final params"
   ]
  },
  {
   "cell_type": "code",
   "execution_count": 45,
   "metadata": {},
   "outputs": [],
   "source": [
    "cv(\n",
    "    pool=pool,\n",
    "    params=params,\n",
    "    fold_count=4,\n",
    "    plot=True,\n",
    "    verbose=False,\n",
    ")"
   ]
  },
  {
   "cell_type": "markdown",
   "metadata": {},
   "source": [
    "### Submission"
   ]
  },
  {
   "cell_type": "code",
   "execution_count": 44,
   "metadata": {},
   "outputs": [],
   "source": [
    "model = CatBoostRegressor(**params)\n",
    "model.fit(X=pool, early_stopping_rounds=30, verbose=False)\n",
    "\n",
    "test_df['y'] = model.predict(test_df.drop(columns=['ID', 'y']))\n",
    "\n",
    "test_df[['ID', 'y']].to_csv('submission.csv', index=None) # 0.54948 on private leaderboard"
   ]
  }
 ],
 "metadata": {
  "kernelspec": {
   "display_name": "Python 3",
   "language": "python",
   "name": "python3"
  },
  "language_info": {
   "codemirror_mode": {
    "name": "ipython",
    "version": 3
   },
   "file_extension": ".py",
   "mimetype": "text/x-python",
   "name": "python",
   "nbconvert_exporter": "python",
   "pygments_lexer": "ipython3",
   "version": "3.6.9"
  }
 },
 "nbformat": 4,
 "nbformat_minor": 4
}
