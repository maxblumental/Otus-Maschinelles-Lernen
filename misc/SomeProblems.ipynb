{
 "cells": [
  {
   "cell_type": "markdown",
   "id": "cheap-serve",
   "metadata": {},
   "source": [
    "# Задачки"
   ]
  },
  {
   "cell_type": "markdown",
   "id": "sonic-croatia",
   "metadata": {},
   "source": [
    "## Комбинаторика"
   ]
  },
  {
   "cell_type": "markdown",
   "id": "civilian-great",
   "metadata": {},
   "source": [
    "### Задача 3.1\n",
    "\n",
    "Сколько существует последовательностей длины $n$ над алфавитом $\\left\\{A, G, C, T\\right\\}$\n",
    "таких, что суммарное количество символов $G$ и $C$ превосходит суммарное\n",
    "количество символов $A$ и $T$ ($n$ – четное число, $n \\gt 2$)."
   ]
  },
  {
   "cell_type": "markdown",
   "id": "painted-storm",
   "metadata": {},
   "source": [
    "#### Решение\n",
    "\n",
    "1. Представим себе последовательность в общем виде:\n",
    "$$X_1, X_2, ..., X_n$$\n",
    "2. Каждый элемент может относится к доминирующей группе $\\{G, C\\}$ или минорной группе $\\{A, T\\}$.\n",
    "3. Фиксируем число элеметов из минорной группы и обозначим его $k$.\n",
    "4. Поскольку группа минорная, то $0 \\leq k \\leq \\frac{n}{2}-1$ (помним, что $n$ четно).\n",
    "5. Из $n$ позиций последовательности выберем случайно $k$ штук и скажем, что там должны стоять элементы минорной группы. Вариантов это сделать $C_n^k$.\n",
    "6. Есть $2^k$ вариантов заполнить подпоследовательность из минорной группы и $2^{n-k}$ варианта - из доминирующей.\n",
    "\n",
    "В соответствии со сказанным, решение будет таким:\n",
    "\n",
    "$$\\sum_{k=0}^{\\frac{n}{2} - 1} C_n^k 2^k 2^{n-k} \n",
    "= 2^n \\sum_{k=0}^{\\frac{n}{2} - 1} C_n^k \n",
    "= 2^n \\frac{2^n - C_n^{\\frac{n}{2}}}{2} = 2^{n-1} \\left( 2^n - C_n^{\\frac{n}{2}} \\right) $$\n",
    "\n",
    "Здесь использованы следующие свойства бинома:\n",
    "\n",
    "$$\\sum_{k=0}^{n} C_n^k = 2^n$$\n",
    "\n",
    "$$C_n^k = C_n^{n-k}$$\n",
    "\n",
    "Из этих свойств для четных $n$ следует:\n",
    "$$\\sum_{k=0}^{\\frac{n}{2}-1} C_n^k\n",
    "=\\sum_{k=\\frac{n}{2}+1}^{n} C_n^k = 2^n - C_n^{\\frac{n}{2}}$$\n",
    "\n",
    "**Ответ:** $2^{n-1} \\left( 2^n - C_n^{\\frac{n}{2}} \\right)$"
   ]
  },
  {
   "cell_type": "markdown",
   "id": "weekly-deputy",
   "metadata": {},
   "source": [
    "#### Проверка"
   ]
  },
  {
   "cell_type": "code",
   "execution_count": 1,
   "id": "severe-angel",
   "metadata": {},
   "outputs": [],
   "source": [
    "import itertools\n",
    "from scipy.special import binom"
   ]
  },
  {
   "cell_type": "code",
   "execution_count": 2,
   "id": "preliminary-commander",
   "metadata": {},
   "outputs": [],
   "source": [
    "def brute_force_31(n, verbose=False):\n",
    "    alphabet = ['A', 'G', 'C', 'T']\n",
    "    more = ['G', 'C']\n",
    "    result = 0\n",
    "    for seq in itertools.product(alphabet, repeat = n):\n",
    "        N_more = sum(1 for e in seq if e in more)\n",
    "        if N_more > n / 2:\n",
    "            if verbose:\n",
    "                print(seq)\n",
    "            result += 1\n",
    "    return result\n",
    "\n",
    "def solution_31(n):\n",
    "    return 2**(n-1) * (2**n - binom(n, n/2))\n",
    "\n",
    "def test_31(n):\n",
    "    assert type(n) == int and n % 2 == 0, 'n must be an even integer'\n",
    "    assert brute_force_31(n) == solution_31(n), f'failed at n={n}'\n",
    "    print(f'n={n} - SUCCESS')"
   ]
  },
  {
   "cell_type": "code",
   "execution_count": 3,
   "id": "consecutive-turkey",
   "metadata": {},
   "outputs": [
    {
     "name": "stdout",
     "output_type": "stream",
     "text": [
      "n=4 - SUCCESS\n",
      "n=6 - SUCCESS\n",
      "n=8 - SUCCESS\n",
      "n=10 - SUCCESS\n",
      "n=12 - SUCCESS\n",
      "CPU times: user 20.5 s, sys: 36.1 ms, total: 20.5 s\n",
      "Wall time: 20.5 s\n"
     ]
    }
   ],
   "source": [
    "%%time\n",
    "\n",
    "for i in range(2, 7):\n",
    "    test_31(2 * i)"
   ]
  },
  {
   "cell_type": "markdown",
   "id": "detailed-oregon",
   "metadata": {},
   "source": [
    "### Задача 3.2\n",
    "\n",
    "Сколько существует различных укорененных двоичных деревьев, содержащих\n",
    "4 листовые вершины, каждая из которых помечена символом из алфавита\n",
    "$\\{A, G, C, T\\}$ (все символы на листьях должны быть различными). Перечислите их."
   ]
  },
  {
   "cell_type": "markdown",
   "id": "valued-hamburg",
   "metadata": {},
   "source": [
    "#### Решение\n",
    "\n",
    "[Укорененное дерево](https://en.wikipedia.org/wiki/Tree_(graph_theory)#Rooted_tree) - это просто дерево, в котором выбрана какая-то вершина и названа корнем. Корень не включается в определение дерева. Дерево - это только связный граф без циклов и в нем необязательно есть корень.\n",
    "\n",
    "Далее будем предполагать, что речь идет о полном дереве ([full binary tree](https://en.wikipedia.org/wiki/Binary_tree#Types_of_binary_trees)), т.е. таком, где у каждой нелистовой вершины 2 потомка. В противном случае можно придумать бесконечное множество деревьев с 4-мя листьями.\n",
    "\n",
    "Итак, есть полное двоичное дерево (см. рисунок ниже). Сколькими разными способами можно присвоить метки $\\{A, G, C, T\\}$ листьям такого дерева?\n",
    "\n",
    "<img width=\"20%\" src=\"https://miro.medium.com/max/1134/1*S9O9sNJQkfwFbtaji9e25w.png\">\n",
    "\n",
    "Важно договориться, что считать разными способами. Для того, чтобы это строго зафиксировать, заметим, что листовые вершины делятся делятся на две пары, каждая из которых имеет общего родителя. Назовем их родственными. На рисунке это пары $(1, 5)$ и $(7, 11)$. Переименования внутри пар будем считать несущественными отличиями.\n",
    "\n",
    "Следующие именования будем считать разными:\n",
    "\n",
    "$$(1, 5, 7, 11) = (A, G, C, T)$$\n",
    "$$(1, 5, 7, 11) = (A, C, G, T)$$\n",
    "\n",
    "так как состав родственных отличается: в первом случае $(A, G)$ и $(C, T)$, а во втором $(A, C)$ и $(G, T)$.\n",
    "\n",
    "Вот два именования, которые будем считать одинаковыми:\n",
    "\n",
    "$$(1, 5, 7, 11) = (A, G, C, T)$$\n",
    "$$(1, 5, 7, 11) = (G, A, T, C)$$\n",
    "\n",
    "потому что состав пар прежний, хоть и порядок именования листьев внутри пар изменился.\n",
    "\n",
    "При сделанных выше оговорках количество способов разметить листья будет $C_4^2 = 4$.\n",
    "\n",
    "**Ответ:** 4\n",
    "\n",
    "*Комментарий:* по возможности лучше уточнить условие."
   ]
  },
  {
   "cell_type": "markdown",
   "id": "after-vector",
   "metadata": {},
   "source": [
    "## Теория вероятностей"
   ]
  },
  {
   "cell_type": "markdown",
   "id": "color-equivalent",
   "metadata": {},
   "source": [
    "### Задача 4.1\n",
    "\n",
    "Для дискретной случайной величины $\\xi$, распределение которой задано в\n",
    "табличной форме, найти 1й и 2й начальные моменты. Привести график для\n",
    "интегральной функции распределения величины $\\xi$.\n",
    "\n",
    "| $\\xi$ | 1 | 2 | 4 |\n",
    "| --- | --- | --- | --- |\n",
    "| Pr | 0.25 | 0.25 | 0.5 |"
   ]
  },
  {
   "cell_type": "markdown",
   "id": "potential-nelson",
   "metadata": {},
   "source": [
    "#### Решение\n",
    "\n",
    "[k-ый начальный момент](https://ru.wikipedia.org/wiki/%D0%9C%D0%BE%D0%BC%D0%B5%D0%BD%D1%82%D1%8B_%D1%81%D0%BB%D1%83%D1%87%D0%B0%D0%B9%D0%BD%D0%BE%D0%B9_%D0%B2%D0%B5%D0%BB%D0%B8%D1%87%D0%B8%D0%BD%D1%8B) случайной величины - это просто матожидание для $k$-ой степени этой величины. Поэтому:\n",
    "\n",
    "$$\\textrm{1-й начальный момент: } \\mathbb{E} \\xi = 1 * 0.25 + 2 * 0.25 + 4 * 0.5 = 2.75$$\n",
    "\n",
    "$$\\textrm{2-й начальный момент: } \\mathbb{E} \\xi^2 = 1^2 * 0.25 + 2^2 * 0.25 + 4^2 * 0.5 = 9.25$$\n",
    "\n",
    "Интегральной функцией распределения ([Cumulative Distribution Fuction](https://en.wikipedia.org/wiki/Cumulative_distribution_function)) будем считать следующую функцию:\n",
    "$$F(x) \\equiv P(\\xi \\leq x)$$\n",
    "\n",
    "(Иногда в литературе знак неравенства берут строгим, но мы выберем более распространенное определение.)"
   ]
  },
  {
   "cell_type": "code",
   "execution_count": 5,
   "id": "stopped-puppy",
   "metadata": {},
   "outputs": [],
   "source": [
    "def cdf_xi(xi):\n",
    "    if xi < 1:\n",
    "        return 0\n",
    "    if xi < 2:\n",
    "        return 0.25\n",
    "    if xi < 4:\n",
    "        return 0.5\n",
    "    return 1"
   ]
  },
  {
   "cell_type": "code",
   "execution_count": 3,
   "id": "atlantic-honey",
   "metadata": {},
   "outputs": [],
   "source": [
    "import numpy as np\n",
    "import matplotlib.pyplot as plt\n",
    "%matplotlib inline"
   ]
  },
  {
   "cell_type": "code",
   "execution_count": 39,
   "id": "tender-article",
   "metadata": {},
   "outputs": [
    {
     "data": {
      "image/png": "[encoded data removed]",
      "text/plain": [
       "<Figure size 432x288 with 1 Axes>"
      ]
     },
     "metadata": {
      "needs_background": "light"
     },
     "output_type": "display_data"
    }
   ],
   "source": [
    "intervals = [(-2, 1), (1, 2), (2, 4), (4, 7)]\n",
    "\n",
    "for interval in intervals:\n",
    "    x0, x1 = interval\n",
    "    xs = np.linspace(x0, x1)[:-1]\n",
    "    ys = [cdf_xi(x) for x in xs]\n",
    "    plt.plot(xs, ys, 'b')\n",
    "\n",
    "eps=1e-3\n",
    "for (x0, _) in intervals[1:]:\n",
    "    plt.plot(x0, cdf_xi(x0), 'bo')\n",
    "    plt.plot(x0, cdf_xi(x0-eps), 'bo', fillstyle='none')\n",
    "    \n",
    "plt.title(r'$CDF_{\\xi}$', fontsize=16)\n",
    "plt.xlabel('x', fontsize=14)\n",
    "plt.ylabel(r'$P(\\xi \\leq x)$', fontsize=14)\n",
    "plt.grid()"
   ]
  },
  {
   "cell_type": "markdown",
   "id": "aquatic-popularity",
   "metadata": {},
   "source": [
    "**Ответ:** 1-й момент - $2.75$, 2-й момент - $9.75$, график CDF - приведен выше."
   ]
  },
  {
   "cell_type": "markdown",
   "id": "binary-client",
   "metadata": {},
   "source": [
    "### Задача 4.1"
   ]
  },
  {
   "cell_type": "markdown",
   "id": "improved-electronics",
   "metadata": {},
   "source": [
    "Дана последовательность случайных величин $\\xi_1, \\xi_2, \\ldots \\xi_{12}$. Каждая величина $\\xi_i$ имеет непрерывное равномерное распределение в диапазоне $[0, 1]$. Найти математическое ожидание и дисперсию для величины\n",
    "$\\eta = \\sum_{i=1}^{12} \\xi_i - 6$. Что можно сказать о законе распределения этой случайной величины?"
   ]
  },
  {
   "cell_type": "markdown",
   "id": "inappropriate-message",
   "metadata": {},
   "source": [
    "#### Решение\n",
    "\n",
    "Математическое ожидание линейно, что справделиво, даже если случайные величины зависимы. Поэтому:\n",
    "\n",
    "$$\\mathbb{E}\\eta = \\sum_{i=1}^{12} \\mathbb{E}\\xi_i - 6 = 12 * 0.5 - 6 = 0$$\n",
    "\n",
    "На дисперсию не влияет добавление констант, $D[\\xi + c] = D[\\xi]$, поэтому:\n",
    "\n",
    "$$D[\\eta] = D\\left[\\sum_{i=1}^{12} \\xi_i \\right]$$\n",
    "\n",
    "В общем случае дисперсия суммы не равна сумме дисперсий. Должна быть поправка на взаимосвязи слагаемых величин в виде попарных ковариаций:\n",
    "\n",
    "$$D\\left[\\sum_{i=1}^{12} \\xi_i \\right] \n",
    "= \\sum_{i=1}^{12} D\\left[ \\xi_i \\right] + 2 \\sum_{i < j} \\textrm{Cov}(\\xi_i, \\xi_j)$$\n",
    "\n",
    "Но мы предположим, что величины $\\xi_i$ **независимы** и, соответственно, все ковариации равны нулю. Тогда, учитывая, что дисперсия величины, равномерно распределенной на $[a, b]$, равна $\\frac{(b-a)^2}{12}$, имеем:\n",
    "\n",
    "$$D[\\eta] = \\sum_{i=1}^{12} D\\left[ \\xi_i \\right] = 12 * \\frac{1}{12} = 1$$\n",
    "\n",
    "Проанализируем теперь распределение $\\eta$.\n",
    "\n",
    "Вопрос о распределении суммы случайных величин, наталкивает на мысль о Центральной предельной теореме. По этой теореме для бесконечной последовательности независимых одинаково распределенных случайных величин c матожиданием $\\mu$ и дисперсией $\\sigma^2$ верно следующее:\n",
    "$$\\chi_n = \\frac{S_n - \\mu n}{\\sigma \\sqrt{n}} \\rightarrow \\mathcal{N}(0, 1) \\textrm{, при } n \\rightarrow \\infty$$\n",
    "\n",
    "где $S_n$ - это как раз частичная сумма первых $n$ членов последовательности. Стремление здесь \"по распределению\", т.е. с определнного $n$ распределение $\\chi_n$ станет похожим на стандартное нормальное.\n",
    "\n",
    "\n",
    "Заметим, что выражение $\\chi_n$ есть в точности $\\eta$ при $n=12$, что легко проверить, учитывая, что $\\mu=0.5$ и $\\sigma = \\frac{1}{\\sqrt{12}}$.\n",
    "\n",
    "Успеет ли последовательность $\\chi_{n}$ к 12-ому элементу стать достаточно похожей на нормальное распределение? Если да, то мы скажем, что $\\eta$ распределено похоже на нормальное распределение. Здесь нам поможет теорема Берри-Эссеена, которая дает оценку скорости сходимости в ЦПТ.\n",
    "\n",
    "Если есть последовательность $X_1, X_2, \\ldots, X_n, \\ldots$ одинаково распределенных случайных величин, таких что $\\mathbb{E}X_n=0$, $\\mathbb{E}X_n^2=\\sigma^2 > 0$ и $\\mathbb{E}|X_n^3|=\\rho < \\infty$, то $\\forall x$ и $\\forall \n",
    "n$:\n",
    "\n",
    "$$|F_n(x) - \\mathcal{N}(x)| \\leq \\frac{C \\rho}{\\sigma^3 \\sqrt{n}}$$\n",
    "$$\\textrm{где } F_n(x) \\textrm{ - это распределение } \\sum_{i=1}^n \\frac{X_i}{\\sigma \\sqrt{n}},\n",
    "\\textrm{ а C - это константа}, C < \\frac{1}{2}$$\n",
    "\n",
    "Здесь может смутить требование $\\mathbb{E}X_n = 0$. Но это не препятствие: возьмем величины $\\theta_i = \\xi_i - \\frac{1}{2}$. Тогда:\n",
    "\n",
    "$$\\eta = \\sum_{i=1}^{12} \\theta_i$$\n",
    "\n",
    "$$\\mathbb{E}\\theta_i = 0, \\ D[\\theta_i] = \\frac{1}{12}$$\n",
    "\n",
    "$$\\mathbb{E} |\\theta^3| = \\rho = \\int_{-\\frac{1}{2}}^{\\frac{1}{2}} |\\theta^3| d\\theta\n",
    "=2 \\int_{0}^{\\frac{1}{2}} \\theta^3 d\\theta = 2 \\left[ \\frac{\\theta^4}{4} \\Biggr|_0^{\\frac{1}{2}} \\right] = \\frac{1}{32}$$\n",
    "\n",
    "Подставим все в неравенство:\n",
    "\n",
    "$$\\left|F_{\\eta}(x) - \\mathcal{N}(x)\\right| \n",
    "= \\left|F_{12}(x) - \\mathcal{N}(x)\\right| \n",
    "< \\frac{\\frac{1}{2} \\frac{1}{32}}{\\left(\\frac{1}{\\sqrt{12}}\\right)^3 \\sqrt{12}} = \\frac{3}{16} = 0.1875$$\n",
    "\n",
    "Учитывая, что область значений всякой функции распределения - это отрезок $[0, 1]$, можно сказать, что описание $\\eta$ стандартным нормальным распределением может быть сделано, хотя, возможно, и грубо, потому что верхняя граница на ошибку не очень мала. Проверим в коде, насколько приближение хорошее."
   ]
  },
  {
   "cell_type": "code",
   "execution_count": 89,
   "id": "centered-million",
   "metadata": {},
   "outputs": [],
   "source": [
    "from statsmodels.distributions.empirical_distribution import ECDF\n",
    "\n",
    "def sample_eta(n, eta_summands):\n",
    "    return np.random.uniform(0, 1, size=(n, eta_summands)).sum(axis=1) - 0.5 * eta_summands\n",
    "\n",
    "def test_central_limit_theorem(n_samples, eta_summands=12):\n",
    "    etas = sample_eta(n_samples, eta_summands)\n",
    "    ecdf = ECDF(etas)\n",
    "    plt.plot(ecdf.x, ecdf.y, label='$CDF_{\\eta}$')\n",
    "\n",
    "    gauss = np.random.normal(size=n_samples)\n",
    "    ecdf = ECDF(gauss)\n",
    "    plt.plot(ecdf.x, ecdf.y, label='$\\Phi$')\n",
    "    \n",
    "    plt.legend(fontsize=14)"
   ]
  },
  {
   "cell_type": "code",
   "execution_count": 90,
   "id": "broke-savings",
   "metadata": {},
   "outputs": [
    {
     "data": {
      "image/png": "[encoded data removed]",
      "text/plain": [
       "<Figure size 1080x504 with 6 Axes>"
      ]
     },
     "metadata": {
      "needs_background": "light"
     },
     "output_type": "display_data"
    }
   ],
   "source": [
    "import math\n",
    "\n",
    "n = 100000\n",
    "\n",
    "eta_summands = [2, 4, 8, 10, 11, 12]\n",
    "Nes = len(eta_summands)\n",
    "\n",
    "plt.figure(figsize=(15, 7))\n",
    "\n",
    "for i, es in enumerate(eta_summands, start=1):\n",
    "    plt.subplot(int(math.ceil(Nes / 3)), 3, i)\n",
    "    plt.title(f\"{es} $\\eta$ summands\")\n",
    "    test_central_limit_theorem(n, eta_summands=es)\n",
    "\n",
    "plt.show()"
   ]
  },
  {
   "cell_type": "markdown",
   "id": "parliamentary-silver",
   "metadata": {},
   "source": [
    "Из программных симуляций видно, что 12 - это ровно то количество слагаемых равномерно распределенных на $[0, 1]$ случайных величин, при которых распределение $F_{\\eta}$ визуально неотличимо от нормального.\n",
    "\n",
    "**Ответ:** $\\mathbb{E} \\eta = 0$, $D[\\eta] = 1$, распределение $\\eta$ можно считать стандартным нормальным."
   ]
  }
 ],
 "metadata": {
  "kernelspec": {
   "display_name": "Python 3",
   "language": "python",
   "name": "python3"
  },
  "language_info": {
   "codemirror_mode": {
    "name": "ipython",
    "version": 3
   },
   "file_extension": ".py",
   "mimetype": "text/x-python",
   "name": "python",
   "nbconvert_exporter": "python",
   "pygments_lexer": "ipython3",
   "version": "3.9.2"
  }
 },
 "nbformat": 4,
 "nbformat_minor": 5
}
